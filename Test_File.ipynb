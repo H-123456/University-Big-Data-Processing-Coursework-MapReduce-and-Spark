{
  "nbformat": 4,
  "nbformat_minor": 0,
  "metadata": {
    "colab": {
      "name": "Test_File.ipynb",
      "provenance": []
    },
    "kernelspec": {
      "name": "python3",
      "display_name": "Python 3"
    },
    "language_info": {
      "name": "python"
    }
  },
  "cells": [
    {
      "cell_type": "markdown",
      "source": [
        "**Test File**"
      ],
      "metadata": {
        "id": "8zoKulnUv9Rz"
      }
    },
    {
      "cell_type": "code",
      "execution_count": null,
      "metadata": {
        "id": "D-9RBDm5v8nW"
      },
      "outputs": [],
      "source": [
        "#this is a test file"
      ]
    }
  ]
}